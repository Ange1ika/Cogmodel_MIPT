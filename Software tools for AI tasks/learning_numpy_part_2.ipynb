{
 "cells": [
  {
   "cell_type": "markdown",
   "id": "c421c4cb",
   "metadata": {},
   "source": [
    "## Learning Numpy. The Hard Way. Part 2.\n",
    "\n",
    "Вам нужно выполнить следующую часть упражнений по Numpy.\n"
   ]
  },
  {
   "cell_type": "markdown",
   "id": "0536c416",
   "metadata": {
    "id": "lIuv8aNXsbxe"
   },
   "source": [
    "#### Задание 21.\n",
    "```python\n",
    "# Q. Print or show only 3 decimal places of the numpy array rand_arr.\n",
    "```"
   ]
  },
  {
   "cell_type": "code",
   "execution_count": 2,
   "id": "6a00d932-6a56-4366-a8d1-6e949683a418",
   "metadata": {},
   "outputs": [],
   "source": [
    "import numpy as np"
   ]
  },
  {
   "cell_type": "code",
   "execution_count": 6,
   "id": "11d60689",
   "metadata": {},
   "outputs": [
    {
     "name": "stdout",
     "output_type": "stream",
     "text": [
      "Input\n"
     ]
    },
    {
     "data": {
      "text/plain": [
       "array([[0.873, 0.145, 0.792],\n",
       "       [0.676, 0.883, 0.762],\n",
       "       [0.037, 0.8  , 0.163],\n",
       "       [0.805, 0.529, 0.186],\n",
       "       [0.554, 0.688, 0.255]])"
      ]
     },
     "execution_count": 6,
     "metadata": {},
     "output_type": "execute_result"
    }
   ],
   "source": [
    "# Setting print options to default\n",
    "np.set_printoptions(edgeitems=3,infstr='inf', linewidth=75, nanstr='nan', precision=3, suppress=False, threshold=1000, formatter=None)\n",
    "\n",
    "# Input precision=8\n",
    "print(\"Input\")\n",
    "rand_arr = np.random.random((5,3))\n",
    "rand_arr"
   ]
  },
  {
   "cell_type": "code",
   "execution_count": null,
   "id": "47eaed65",
   "metadata": {},
   "outputs": [],
   "source": []
  },
  {
   "cell_type": "markdown",
   "id": "13085858",
   "metadata": {
    "id": "l2lyOX-Dsbxe"
   },
   "source": [
    "#### Задание 23.\n",
    "```python\n",
    "# Q. Limit the number of items printed in python numpy array a to a maximum of 6 elements.\n",
    "\n",
    "\n",
    "\n",
    "# Desired Output\n",
    "# > array([ 0,  1,  2, ..., 12, 13, 14])\n",
    "```"
   ]
  },
  {
   "cell_type": "code",
   "execution_count": 12,
   "id": "9a58d2a8-ad05-4bf2-ba7f-0f9bd8716c81",
   "metadata": {},
   "outputs": [
    {
     "name": "stdout",
     "output_type": "stream",
     "text": [
      "Input\n"
     ]
    },
    {
     "data": {
      "text/plain": [
       "array([ 0,  1,  2, ..., 12, 13, 14])"
      ]
     },
     "execution_count": 12,
     "metadata": {},
     "output_type": "execute_result"
    }
   ],
   "source": [
    "# Setting print options to default\n",
    "np.set_printoptions(edgeitems=3, infstr='inf', linewidth=75, nanstr='nan', precision=8, suppress=False, threshold=6, formatter=None)\n",
    "\n",
    "# Input  threshold=6 \n",
    "print(\"Input\")\n",
    "a = np.arange(15)\n",
    "a"
   ]
  },
  {
   "cell_type": "code",
   "execution_count": 9,
   "id": "ac1a9e13",
   "metadata": {},
   "outputs": [
    {
     "name": "stdout",
     "output_type": "stream",
     "text": [
      "Input\n"
     ]
    },
    {
     "data": {
      "text/plain": [
       "array([[0.0005434 , 0.00027837, 0.00042452],\n",
       "       [0.00084478, 0.00000472, 0.00012157],\n",
       "       [0.00067075, 0.00082585, 0.00013671]])"
      ]
     },
     "execution_count": 9,
     "metadata": {},
     "output_type": "execute_result"
    }
   ],
   "source": [
    "np.set_printoptions(edgeitems=3,infstr='inf', linewidth=75, nanstr='nan', precision=8, suppress=True, threshold=1000, formatter=None)\n",
    "\n",
    "# Input   suppress=True\n",
    "print(\"Input\")\n",
    "np.random.seed(100)\n",
    "rand_arr = np.random.random([3,3])/1e3\n",
    "rand_arr"
   ]
  },
  {
   "cell_type": "markdown",
   "id": "2eff20a5",
   "metadata": {
    "id": "QkqAR6KZsbxe"
   },
   "source": [
    "#### Задание 24.\n",
    "```python\n",
    "# Q. Print the full numpy array a without truncating.\n",
    "\n",
    "\n",
    "# Desired Output\n",
    "# > array([ 0,  1,  2,  3,  4,  5,  6,  7,  8,  9, 10, 11, 12, 13, 14])\n",
    "```"
   ]
  },
  {
   "cell_type": "code",
   "execution_count": 14,
   "id": "597c8355",
   "metadata": {},
   "outputs": [
    {
     "name": "stdout",
     "output_type": "stream",
     "text": [
      "Input\n"
     ]
    },
    {
     "data": {
      "text/plain": [
       "array([ 0,  1,  2,  3,  4,  5,  6,  7,  8,  9, 10, 11, 12, 13, 14])"
      ]
     },
     "execution_count": 14,
     "metadata": {},
     "output_type": "execute_result"
    }
   ],
   "source": [
    "\n",
    "# Input\n",
    "print(\"Input\")\n",
    "np.set_printoptions(threshold=np.inf)\n",
    "a = np.arange(15)\n",
    "a"
   ]
  },
  {
   "cell_type": "markdown",
   "id": "429738a5",
   "metadata": {
    "id": "db6B3ewmsbxf"
   },
   "source": [
    "#### Задание 25.\n",
    "```python\n",
    "# Q. Import the iris dataset keeping the text intact.\n",
    "\n",
    "# Input\n",
    "# Use the iris dataset provided\n",
    "print_files()\n",
    "\n",
    "# All the available options of the numpy genfromtxt function\n",
    "# numpy.genfromtxt(fname, dtype=<class 'float'>, comments='#', delimiter=None, skip_header=0, \n",
    "#                    skip_footer=0, converters=None, missing_values=None, filling_values=None, \n",
    "#                    usecols=None, names=None, excludelist=None, deletechars=\" !#$%&'()*+, -./:;<=>?@[\\]^{|}~\", \n",
    "#                    replace_space='_', autostrip=False, case_sensitive=True, defaultfmt='f%i', \n",
    "#                    unpack=None, usemask=False, loose=True, invalid_raise=True, max_rows=None, encoding='bytes')[source]\n",
    "```"
   ]
  },
  {
   "cell_type": "code",
   "execution_count": null,
   "id": "92de81e9",
   "metadata": {},
   "outputs": [],
   "source": []
  },
  {
   "cell_type": "markdown",
   "id": "780c35ff",
   "metadata": {
    "id": "bFcDJk0_sbxf"
   },
   "source": [
    "#### Задание 26.\n",
    "```python\n",
    "# Q. Extract the text column species from the 1D iris imported in previous question.\n",
    "\n",
    "# Input\n",
    "# Use the iris dataset provided\n",
    "print_files()\n",
    "\n",
    "# Use this if you are working on your local machine\n",
    "# url = 'https://archive.ics.uci.edu/ml/machine-learning-databases/iris/iris.data'\n",
    "# iris_1d = np.genfromtxt(url, delimiter=',', dtype=None)\n",
    "```"
   ]
  },
  {
   "cell_type": "code",
   "execution_count": null,
   "id": "6818919d",
   "metadata": {},
   "outputs": [],
   "source": []
  },
  {
   "cell_type": "markdown",
   "id": "ad8cc916",
   "metadata": {
    "id": "Jim8d3TWsbxf"
   },
   "source": [
    "#### Задание 27.\n",
    "```python\n",
    "# Q. Convert the 1D iris to 2D array iris_2d by omitting the species text field.\n",
    "\n",
    "# Input\n",
    "# Use the iris dataset provided\n",
    "print_files()\n",
    "\n",
    "# Use this if you are working on your local machine\n",
    "# url = 'https://archive.ics.uci.edu/ml/machine-learning-databases/iris/iris.data'\n",
    "# iris_1d = np.genfromtxt(url, delimiter=',', dtype=None)\n",
    "```"
   ]
  },
  {
   "cell_type": "code",
   "execution_count": null,
   "id": "f0aa9fa0",
   "metadata": {},
   "outputs": [],
   "source": []
  },
  {
   "cell_type": "markdown",
   "id": "7cf02682",
   "metadata": {
    "id": "900pvhKpsbxg"
   },
   "source": [
    "#### Задание 28.\n",
    "```python\n",
    "# Q. Find the mean, median, standard deviation of iris's sepallength (1st column)\n",
    "\n",
    "# Input\n",
    "# Use the iris dataset provided\n",
    "print_files()\n",
    "\n",
    "# Use this if you are working on your local machine\n",
    "# url = 'https://archive.ics.uci.edu/ml/machine-learning-databases/iris/iris.data'\n",
    "# iris_1d = np.genfromtxt(url, delimiter=',', dtype=None)\n",
    "```"
   ]
  },
  {
   "cell_type": "code",
   "execution_count": null,
   "id": "0384e928",
   "metadata": {},
   "outputs": [],
   "source": []
  },
  {
   "cell_type": "markdown",
   "id": "1aeeb650",
   "metadata": {
    "id": "YUa5fAUFsbxg"
   },
   "source": [
    "#### Задание 29.\n",
    "```python\n",
    "# Q. Create a normalized form of iris's sepallength whose values range exactly between 0 and 1 so that the minimum has value 0 and maximum has value 1.\n",
    "\n",
    "# Input\n",
    "# Use the iris dataset provided\n",
    "print_files()\n",
    "\n",
    "# Use this if you are working on your local machine\n",
    "# url = 'https://archive.ics.uci.edu/ml/machine-learning-databases/iris/iris.data'\n",
    "# iris_1d = np.genfromtxt(url, delimiter=',', dtype=None)\n",
    "```"
   ]
  },
  {
   "cell_type": "code",
   "execution_count": null,
   "id": "a24113b8",
   "metadata": {},
   "outputs": [],
   "source": []
  },
  {
   "cell_type": "markdown",
   "id": "cc06d6ed",
   "metadata": {
    "id": "8lKNY-vnsbxg"
   },
   "source": [
    "#### Задание 30.\n",
    "```python\n",
    "# Q. Compute the softmax score of sepallength.\n",
    "\n",
    "# Input\n",
    "# Use the iris dataset provided\n",
    "print_files()\n",
    "\n",
    "# Use this if you are working on your local machine\n",
    "# url = 'https://archive.ics.uci.edu/ml/machine-learning-databases/iris/iris.data'\n",
    "# iris_1d = np.genfromtxt(url, delimiter=',', dtype=None)\n",
    "```"
   ]
  },
  {
   "cell_type": "code",
   "execution_count": null,
   "id": "c2af310b",
   "metadata": {},
   "outputs": [],
   "source": []
  },
  {
   "cell_type": "markdown",
   "id": "699398c5",
   "metadata": {
    "id": "xlAAcGV4sbxg"
   },
   "source": [
    "#### Задание 31.\n",
    "```python\n",
    "# Q. Find the 5th and 95th percentile of iris's sepallength\n",
    "\n",
    "# Input\n",
    "# Use the iris dataset provided\n",
    "print_files()\n",
    "\n",
    "# Use this if you are working on your local machine\n",
    "# url = 'https://archive.ics.uci.edu/ml/machine-learning-databases/iris/iris.data'\n",
    "# iris_1d = np.genfromtxt(url, delimiter=',', dtype=None)\n",
    "```"
   ]
  },
  {
   "cell_type": "code",
   "execution_count": null,
   "id": "cc85bf6e",
   "metadata": {},
   "outputs": [],
   "source": []
  },
  {
   "cell_type": "markdown",
   "id": "662123e5",
   "metadata": {
    "id": "TkJreR5Gsbxh"
   },
   "source": [
    "#### Задание 32.\n",
    "```python\n",
    "# Q. Insert np.nan values at 20 random positions in iris_2d dataset\n",
    "\n",
    "# Input\n",
    "# Use the iris dataset provided\n",
    "print_files()\n",
    "\n",
    "# Use this if you are working on your local machine\n",
    "# url = 'https://archive.ics.uci.edu/ml/machine-learning-databases/iris/iris.data'\n",
    "# iris_1d = np.genfromtxt(url, delimiter=',', dtype=None)\n",
    "```"
   ]
  },
  {
   "cell_type": "code",
   "execution_count": null,
   "id": "8067b683",
   "metadata": {},
   "outputs": [],
   "source": []
  },
  {
   "cell_type": "markdown",
   "id": "b26a4c22",
   "metadata": {
    "id": "EwZck8ZMsbxh"
   },
   "source": [
    "#### Задание 33.\n",
    "```python\n",
    "#### Q. Find the number and position of missing values in iris_2d's sepallength (1st column)\n",
    "\n",
    "# Input\n",
    "# Use the iris dataset provided\n",
    "print_files()\n",
    "\n",
    "# Use this if you are working on your local machine\n",
    "# url = 'https://archive.ics.uci.edu/ml/machine-learning-databases/iris/iris.data'\n",
    "# iris_2d = np.genfromtxt(url, delimiter=',', dtype='float')\n",
    "# iris_2d[np.random.randint(150, size=20), np.random.randint(4, size=20)] = np.nan\n",
    "```"
   ]
  },
  {
   "cell_type": "code",
   "execution_count": null,
   "id": "69d71138",
   "metadata": {},
   "outputs": [],
   "source": []
  },
  {
   "cell_type": "markdown",
   "id": "8e1d9591",
   "metadata": {
    "id": "XnABbXn0sbxh"
   },
   "source": [
    "#### Задание 34.\n",
    "```python\n",
    "# Q. Filter the rows of iris_2d that has petallength (3rd column) > 1.5 and sepallength (1st column) < 5.0\n",
    "\n",
    "# Input\n",
    "# Use the iris dataset provided\n",
    "print_files()\n",
    "\n",
    "# Use this if you are working on your local machine\n",
    "# url = 'https://archive.ics.uci.edu/ml/machine-learning-databases/iris/iris.data'\n",
    "# iris_2d = np.genfromtxt(url, delimiter=',', dtype='float', usecols=[0,1,2,3])\n",
    "```"
   ]
  },
  {
   "cell_type": "code",
   "execution_count": null,
   "id": "2cbbe6e6",
   "metadata": {},
   "outputs": [],
   "source": []
  },
  {
   "cell_type": "markdown",
   "id": "5ea31821",
   "metadata": {
    "id": "9EIpyED0sbxi"
   },
   "source": [
    "#### Задание 35.\n",
    "```python\n",
    "# Q. Select the rows of iris_2d that does not have any nan value.\n",
    "\n",
    "# Input\n",
    "# Use the titanic dataset provided\n",
    "print_files()\n",
    "\n",
    "# set original print statements\n",
    "np.set_printoptions(edgeitems=3,infstr='inf', linewidth=75, nanstr='nan', precision=8, suppress=False, threshold=1000, formatter=None)\n",
    "```"
   ]
  },
  {
   "cell_type": "code",
   "execution_count": null,
   "id": "674e134b",
   "metadata": {},
   "outputs": [],
   "source": []
  },
  {
   "cell_type": "markdown",
   "id": "9520a374",
   "metadata": {
    "id": "jABNZ9Cxsbxi"
   },
   "source": [
    "#### Задание 36.\n",
    "```python\n",
    "# Q. Find the correlation between SepalLength(1st column) and PetalLength(3rd column) in iris_2d\n",
    "\n",
    "# Input\n",
    "# Use the iris dataset provided\n",
    "print_files()\n",
    "\n",
    "# Use this if you are working on your local machine\n",
    "# url = 'https://archive.ics.uci.edu/ml/machine-learning-databases/iris/iris.data'\n",
    "# iris_2d = np.genfromtxt(url, delimiter=',', dtype='float', usecols=[0,1,2,3])\n",
    "```"
   ]
  },
  {
   "cell_type": "code",
   "execution_count": null,
   "id": "da6791f4",
   "metadata": {},
   "outputs": [],
   "source": []
  },
  {
   "cell_type": "markdown",
   "id": "85692e4c",
   "metadata": {
    "id": "9rrEJ_uasbxj"
   },
   "source": [
    "#### Задание 37.\n",
    "```python\n",
    "# Q. Find out if iris_2d has any missing values.\n",
    "\n",
    "# Input\n",
    "# Use the iris dataset provided\n",
    "print_files()\n",
    "\n",
    "# Use this if you are working on your local machine\n",
    "# url = 'https://archive.ics.uci.edu/ml/machine-learning-databases/iris/iris.data'\n",
    "# iris_2d = np.genfromtxt(url, delimiter=',', dtype='float', usecols=[0,1,2,3])\n",
    "```"
   ]
  },
  {
   "cell_type": "code",
   "execution_count": null,
   "id": "e5ba2742",
   "metadata": {},
   "outputs": [],
   "source": []
  },
  {
   "cell_type": "markdown",
   "id": "7d05aa18",
   "metadata": {
    "id": "Wr4gp5vGsbxj"
   },
   "source": [
    "#### Задание 38.\n",
    "```python\n",
    "# Q. Replace all ccurrences of nan with 0 in numpy array\n",
    "\n",
    "# Input\n",
    "# Use the iris dataset provided\n",
    "print_files()\n",
    "\n",
    "# Use this if you are working on your local machine\n",
    "# url = 'https://archive.ics.uci.edu/ml/machine-learning-databases/iris/iris.data'\n",
    "# iris_2d = np.genfromtxt(url, delimiter=',', dtype='float', usecols=[0,1,2,3])\n",
    "# iris_2d[np.random.randint(150, size=20), np.random.randint(4, size=20)] = np.nan\n",
    "```"
   ]
  },
  {
   "cell_type": "code",
   "execution_count": null,
   "id": "b2dee394",
   "metadata": {},
   "outputs": [],
   "source": []
  },
  {
   "cell_type": "markdown",
   "id": "7f57d5a1",
   "metadata": {
    "id": "yT458ZELsbxj"
   },
   "source": [
    "#### Задание 39.\n",
    "```python\n",
    "# Q. Find the unique values and the count of unique values in iris's species\n",
    "\n",
    "# Input\n",
    "# Use the iris dataset provided\n",
    "print_files()\n",
    "\n",
    "# Use this if you are working on your local machine\n",
    "# url = 'https://archive.ics.uci.edu/ml/machine-learning-databases/iris/iris.data'\n",
    "# iris_2d = np.genfromtxt(url, delimiter=',', dtype='float', usecols=[0,1,2,3])\n",
    "# names = ('sepallength', 'sepalwidth', 'petallength', 'petalwidth', 'species')\n",
    "```"
   ]
  },
  {
   "cell_type": "code",
   "execution_count": null,
   "id": "b35f0139",
   "metadata": {},
   "outputs": [],
   "source": []
  },
  {
   "cell_type": "markdown",
   "id": "d2d811be",
   "metadata": {
    "id": "LvHaMw7psbxk"
   },
   "source": [
    "#### Задание 40.\n",
    "```python\n",
    "# Q. Bin the petal length (3rd) column of iris_2d to form a text array, such that if petal length is:\n",
    "# Less than 3 --> 'small'\n",
    "# 3-5 --> 'medium'\n",
    "# '>=5 --> 'large'\n",
    "\n",
    "# Input\n",
    "# Use the iris dataset provided\n",
    "print_files()\n",
    "\n",
    "# Use this if you are working on your local machine\n",
    "# url = 'https://archive.ics.uci.edu/ml/machine-learning-databases/iris/iris.data'\n",
    "# iris_2d = np.genfromtxt(url, delimiter=',', dtype='float', usecols=[0,1,2,3])\n",
    "# names = ('sepallength', 'sepalwidth', 'petallength', 'petalwidth', 'species')\n",
    "```"
   ]
  },
  {
   "cell_type": "code",
   "execution_count": null,
   "id": "1f9aa0e4",
   "metadata": {},
   "outputs": [],
   "source": []
  }
 ],
 "metadata": {
  "kernelspec": {
   "display_name": "Python 3 (ipykernel)",
   "language": "python",
   "name": "python3"
  },
  "language_info": {
   "codemirror_mode": {
    "name": "ipython",
    "version": 3
   },
   "file_extension": ".py",
   "mimetype": "text/x-python",
   "name": "python",
   "nbconvert_exporter": "python",
   "pygments_lexer": "ipython3",
   "version": "3.12.4"
  }
 },
 "nbformat": 4,
 "nbformat_minor": 5
}
