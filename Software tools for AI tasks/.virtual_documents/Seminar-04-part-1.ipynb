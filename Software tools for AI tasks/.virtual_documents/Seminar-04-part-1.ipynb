





lst = [0, 1, 2]
lst[-1] += lst.pop() 
# lst.pop удаляет последний элемент списка и выводит его
# сначала выполняем lst[-1] потом уже прибавляем lst.pop()
print(lst[-1])


lst = [0, 1, 2]
lst[-1] = lst[-1] + lst.pop()
print(lst)





def yell(text):
    return text.upper() + '!'

print(yell("hello"))





bark = yell

bark("woof")





bark.__name__





funcs = [bark, str.lower, str.capitalize]
print(funcs)


for f in funcs:
    print(f, f('hey there'))





def speak(text):
    def whisper(t):
        return t.lower() + '...'
    return whisper(text)

speak('Hello, World')





class Adder:
    def __init__(self, n):
        self.n = n
        
    def __call__(self, x):
        return self.n + x

plus_3 = Adder(3)
plus_3(4)
print(plus_3(4))





add = lambda x, y: x + y

print(add, add(5, 3))

def add(x, y):
    return x + y

print(add, add(5, 3))





tuples = [(1, 'd'), (2, 'b'), (4, 'a'), (3, 'c')]

a = [1, 2, 3, 4]
print(sorted(tuples, key = lambda x: x[1])) # лямбдой задаём параметр, по которому идет сортировка


tuples = [(1, 'd'), (2, 'b'), (4, 'a'), (3, 'c')]

a = [1, 2, 3, 4]
print(sorted(tuples, key = lambda x: x[0])) # лямбдой задаём параметр, по которому идет сортировка





def null_decorator(func):
    return func

def greet():
    return 'Hello!'

greet = null_decorator(greet)

print(greet())





@null_decorator
def greet():
    return 'Hello!'

print(greet())





def uppercase(func):
    
    def wrapper():
        original_result = func()
        modified_result = original_result.upper()
        return modified_result
    
    return wrapper


@uppercase
def greet():
    return 'Hello!'

print(greet())





from IPython.display import display, HTML

def strong(func):
    def wrapper():
        return '<strong>' + func() + '</strong>'
    return wrapper

def emphasis(func):
    def wrapper():
        return '<em>' + func() + '</em>'
    return wrapper


@strong
def greet():
    return 'Hello!'


display(HTML(greet()))


@emphasis
@strong # модифицируем с нижнего, то есть с этого
def greet():
    return 'Hello!'

display(HTML(greet()))


@emphasis
@strong
@uppercase
def greet():
    return 'Hello!'

display(HTML(greet()))





def kwargs_logger(func):
    
    def wrapper(*args, **kwargs):
        print("kwargs:", kwargs)
        return func(*args, **kwargs)
    
    return wrapper

@kwargs_logger
def greet(name='Vasya'):
    return 'Hello!'

print(greet(name='Alisa'))





import time

def time_counter(func):
    
    def wrapper(*args, **kwargs):
        start_time = time.time()
        result = func(*args, **kwargs)
        finish_time = time.time()
        print(func.__name__ + ":", finish_time - start_time)
        
        return result
    
    return wrapper

@time_counter
def sort(a: list) -> list:
    return list(sorted(a))

@time_counter
def stupid_sort(a: list) -> list:
    for index_x, x in enumerate(a):
        for index_y, y in enumerate(a):
            if x > y:
                a[index_x], a[index_y] = y, x
    return list(sorted(a))

a = list(reversed(range(10000)))

sort(a)
stupid_sort(a);





def apply_discount(product, discount):
    new_price = int(product['price'] * (1.0 - discount))
    assert 0 <= new_price <= product['price'], "New price should be: 0 <= new_price <= price"
    
    return new_price


shoes = {'name': 'Fancy Shoes', 'price': 14900}

print(apply_discount(product=shoes, discount=0.3))


# получаем ошибку, но так и задумано
print(apply_discount(product=shoes, discount=2.0))





assert 1 == 2, "1 != 2"





def delete_product(prod_id, user):
    
    assert user.is_admin(), 'Must be admin'
    assert store.has_product(prod_id), 'Unknown product'
    
    store.get_product(prod_id).delete()





with open('hello.txt', 'w') as file:
    file.write('hello, world!') # автоматически после этой команды файл закроется, иначе можем повредить файл











class ManagedFile:
    
    def __init__(self, name):
        self.name = name
    
    def __enter__(self): # когда видит в коде "as"
        self.file = open(self.name, 'w')
        return self.file
    
    def __exit__(self, exc_type, exc_val, exc_tb):
        if self.file:
            self.file.close() 


with ManagedFile('hello.txt') as f:
    f.write('hello, world!\n')
    f.write('bye now')


with open('hello.txt', "r") as f:
    print(f.readlines())











class Test:
    def __init__(self):
        self.foo = 11
        self._bar = 23
        
t = Test()
print(t.foo)
print(t._bar) # (использовать нехорошо, но возможно), это лишь соглашение программистов








def make_object(name, class):
    pass


def make_object(name, class_):
    pass





class Test:
    def __init__(self):
        self.foo = 11
        self._bar = 23
        self.__baz = 23
        
t = Test()

# dir возвращает список валидных атрибутов объекта
dir(t)








class ExtendedTest(Test):
    def __init__(self):
        super().__init__()
        self.foo = 'overridden'
        self._bar = 'overridden'
        self.__baz = 'overridden'

t2 = ExtendedTest()
print(t2.foo)
print(t2._bar)
print(t2.__baz) # name mangling
# В конструкции компилятора искажение имен — это метод, используемый для решения различных проблем, 
# вызванных необходимостью разрешения уникальных имен программных объектов во многих современных языках программирования.





dir(t2)


print(t2._ExtendedTest__baz)
print(t2._Test__baz)





class ManglingTest:
    
    def __init__(self):
        self.__mangled = 'hello'
        
    def get_mangled(self):
        return self.__mangled
    
print(ManglingTest().get_mangled())
print(ManglingTest().__mangled)  # чтобы сохранить предков внутри класса





class PrefixPostfixTest:
    def __init__(self):
        self.__bam__ = 42
        
print(PrefixPostfixTest().__bam__)











x, y, *_ = (3, 14, 15, 92, 65)

print(x, y, _)



