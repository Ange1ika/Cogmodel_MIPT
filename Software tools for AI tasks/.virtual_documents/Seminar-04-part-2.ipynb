











import numpy as np











a = np.array([1, 2, 3])  # создаем массив размерности 1
print(type(a), a.shape, a[0], a[1], a[2]) 
a[0] = 5                 # изменяем значение элемента
print(a)                  


b = np.array([[1,2,3],[4,5,6]])   # создаем массив размерности 2
print(b)


print(b.shape)
print(b[0, 0], b[0, 1], b[1, 0])





a = np.zeros((2,2))  # массив из всех нулей
print(a)


b = np.ones((1,2))   # массив из всех единиц
print(b)


c = np.full((2,2), fill_value=7) # массив из констант
print(c)


d = np.eye(3)        # создает единичную матрицу 3x3
print(d)


e = np.random.random((2,2)) # массив, заполненный случайными значениями
print(e)











import numpy as np

# Создаем массив вложенности 2 с размерностями (3, 4)
# [[ 1  2  3  4]
#  [ 5  6  7  8]
#  [ 9 10 11 12]]
a = np.array([[1, 2, 3, 4], [5, 6, 7, 8], [9, 10, 11, 12]])

# Вытаскиваем подмассив, состоящий из первых двух строк
# и столбцов 1 и 2; b - результат, массив размерности (2, 2):
# [[2 3]
#  [6 7]]
b = a[:2, 1:3]
print(b)





print(a[0, 1])
b[0, 0] = 77    # b[0, 0] - это та же ячейка, что и a[0, 1]
print(a[0, 1]) 





# Создаем массив вложенности 2 с размерностями (3, 4)
a = np.array([[1,2,3,4], [5,6,7,8], [9,10,11,12]])
print(a)





row_r1 = a[1, :]    # представление (view) вложенности 1  
row_r2 = a[1:2, :]  # представление (view) вложенности 2
row_r3 = a[[1], :]  # представление (view) вложенности 2
print(row_r1, f"shape: {row_r1.shape}")
print(row_r2, f"shape: {row_r2.shape}")
print(row_r3, f"shape: {row_r3.shape}")





col_r1 = a[:, 1]
col_r2 = a[:, 1:2]
print(col_r1, col_r1.shape)
print()
print(col_r2, col_r2.shape)





a = np.array([[1,2], [3, 4], [5, 6]])
print(a)

# пример такого индексирования
print(a[[0, 1, 2], [0, 1, 0]])

# код выше эквивалентен этому:
print(np.array([a[0, 0], a[1, 1], a[2, 0]]))



# мы можем переиспользовать тот же элемент
print(np.array([a[0, 1], a[0, 1]]))

# эквивалент
print(a[[0, 0], [1, 1]])





# создаем новый массив, из которого мы будем выбирать элементы
a = np.array([[1,2,3], [4,5,6], [7,8,9], [10, 11, 12]])
print(a)


# создаем массив индексов
b = np.array([0, 2, 0, 1])

# выбираем по одному элементу из каждой строки в a, используя индексы из b
print(a[np.arange(4), b])  # Prints "[ 1  6  7 11]"


# Изменяем по одному элементу из каждой строки в a, используя индексы из b
a[np.arange(4), b] *= -1
print(a)





import numpy as np

a = np.array([[1,2], [3, 4], [5, 6]])

bool_idx = (a > 2)  # Находит элементы, которые больше 2;
                    # возвращает numpy массив состоящий из Booleans
                    # размеры совпадают с исходным массивом, 
                    # True стоит там, где элемент > 2.

print(bool_idx)


# Мы можем использовать такую индексацию для создания массива размерности 1
print(a[bool_idx])

# Но мы можем сделать это еще проще, используя лишь одно выражение:
print(a[a > 2])













x = np.array([1, 2])  # numpy выбирает тип
y = np.array([1.0, 2.0])  #  numpy выбирает тип
z = np.array([1, 2], dtype=np.int64)  # Задаем тип явно

print(x.dtype, y.dtype, z.dtype)











x = np.array([[1,2],[3,4]], dtype=np.float64)
y = np.array([[5,6],[7,8]], dtype=np.float64)

# Поэлементная сумма; создаются новые массивы
print(x + y)
print(np.add(x, y))


print(x - y)
print(np.subtract(x, y))


print(x * y)
print(np.multiply(x, y))


# [[ 0.2         0.33333333]
#  [ 0.42857143  0.5       ]]
print(x / y)
print(np.divide(x, y))


# [[ 1.          1.41421356]
#  [ 1.73205081  2.        ]]
# извлечение корня
print(np.sqrt(x))


x = np.array([[1,2],
              [3,4]])
y = np.array([[5,6],[7,8]])

v = np.array([9,10])
w = np.array([11, 12])

# векторное произведение
print(v.dot(w))
print(np.dot(v, w))





print(v @ w)


# произведение матрицы на вектор;
# [29 67]
print(x.dot(v))
print(np.dot(x, v))
print(x @ v)


# матричное произведение
# [[19 22]
#  [43 50]]
print(x.dot(y))
print(np.dot(x, y))
print(x @ y)





x = np.array([[1,2],[3,4]])

print(np.sum(x))  # Вычисляет сумму всех элементов; печатает "10"
print(np.sum(x, axis=0))  # Вычисляет сумму для каждого столбца; печатает "[4 6]"
print(np.sum(x, axis=1))  # Вычисляет сумму для каждой строки; печатает "[3 7]"





print(x)
print("transpose\n", x.T)


v = np.array([[1,2,3]])
print(v )
print("transpose\n", v.T)








x = np.array([[1,2,3], [4,5,6], [7,8,9], [10, 11, 12]])
v = np.array([1, 0, 1])
y = np.empty_like(x)   # создаем пустую матрицы с размерами, как у x

# Добавялем в цикле:
for i in range(4):
    y[i, :] = x[i, :] + v

print(y)








import numpy as np

x = np.array([[1,2,3], [4,5,6], [7,8,9], [10, 11, 12]])
v = np.array([1, 0, 1])
y = x + v  
print(y)





# Матричное произведение двух векторов:
v = np.array([1,2,3])  # размер v (3,)
w = np.array([4,5])    # размер w (2,)
# Изменяем размеры v, чтобы сделать столбцом
# теперь мы можем использовать broadcasting для вычисления произвденеия с w:

print(np.reshape(v, (3, 1)) * w)


# Добавить вектор v к каждой строке матрицы x:
x = np.array([[1,2,3], [4,5,6]])
# размер x (2, 3), а размер v (3,), поэтому broadcast будет работать с размером (2, 3),
# получаем следующую матрицу:

print(x + v)


# Добавить вектор к каждому столбцу матрицы:

print((x.T + w).T)


# Другое решение - преобразовать w в вектор-строку размера (2, 1);
# и применить broadcasting
print(x + np.reshape(w, (2, 1)))


# Умножить матрицу на константу:
print(x * 2)














import matplotlib.pyplot as plt





%matplotlib inline








# Вычисляем координаты x и y, для синусойды
x = np.arange(0, 3 * np.pi, 0.1)
y = np.sin(x)

# Plot the points using matplotlib
plt.plot(x, y)





y_sin = np.sin(x)
y_cos = np.cos(x)

# Plot the points using matplotlib
plt.plot(x, y_sin)
plt.plot(x, y_cos)
plt.xlabel('x axis label')
plt.ylabel('y axis label')
plt.title('Sine and Cosine')
plt.legend(['Sine', 'Cosine'])








x = np.arange(0, 3 * np.pi, 0.1)
y_sin = np.sin(x)
y_cos = np.cos(x)

# Задаем subplot сетку высоты 2 и ширины 1,
# и выбираем ее, как активную.
plt.subplot(2, 1, 1)

# Рисуем
plt.plot(x, y_sin)
plt.title('Sine')

# создаем и выбираем следующий subplot.
plt.subplot(2, 1, 2)
plt.plot(x, y_cos)
plt.title('Cosine')

# Рисуем.
plt.show()



