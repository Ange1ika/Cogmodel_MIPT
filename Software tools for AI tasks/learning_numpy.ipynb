{
 "cells": [
  {
   "cell_type": "markdown",
   "metadata": {
    "id": "dQ6TeLVrsbxV"
   },
   "source": [
    "## Learning Numpy. The Hard Way. \n",
    "\n",
    "Вам нужно выполнить упражнения по Numpy.\n"
   ]
  },
  {
   "cell_type": "markdown",
   "metadata": {
    "id": "c8xOTji2sbxY"
   },
   "source": [
    "#### Задание 1.\n",
    "```python\n",
    " # Q. Import numpy as np and print the version number.\n",
    "```"
   ]
  },
  {
   "cell_type": "code",
   "execution_count": 1,
   "metadata": {},
   "outputs": [],
   "source": [
    "import numpy as np"
   ]
  },
  {
   "cell_type": "markdown",
   "metadata": {
    "id": "LPkaJQ6MsbxY"
   },
   "source": [
    "#### Задание 2.\n",
    "```python\n",
    "# Q. Create a 1D array of numbers from 0 to 9\n",
    "\n",
    "# Desired Output\n",
    "# > array([0, 1, 2, 3, 4, 5, 6, 7, 8, 9])\n",
    "```"
   ]
  },
  {
   "cell_type": "code",
   "execution_count": 5,
   "metadata": {},
   "outputs": [
    {
     "name": "stdout",
     "output_type": "stream",
     "text": [
      "[0 1 2 3 4 5 6 7 8 9]\n",
      "9\n"
     ]
    }
   ],
   "source": [
    "a = np.array(np.arange(10))\n",
    "print(a)\n",
    "print(a[9])"
   ]
  },
  {
   "cell_type": "markdown",
   "metadata": {
    "id": "Tbm4ljXtsbxY"
   },
   "source": [
    "#### Задание 3.\n",
    "```python\n",
    " # Q. Create a 3×3 numpy array of all True’s\n",
    "```"
   ]
  },
  {
   "cell_type": "code",
   "execution_count": 12,
   "metadata": {},
   "outputs": [
    {
     "name": "stdout",
     "output_type": "stream",
     "text": [
      "[[ True  True  True]\n",
      " [ True  True  True]\n",
      " [ True  True  True]]\n"
     ]
    }
   ],
   "source": [
    "b = np.ones((3,3))\n",
    "c = (b > 0)\n",
    "\n",
    "print(c)"
   ]
  },
  {
   "cell_type": "markdown",
   "metadata": {
    "id": "24NJr9D_sbxZ"
   },
   "source": [
    "#### Задание 4.\n",
    "```python\n",
    "# Q. Extract all odd numbers from arr\n",
    "# Input \n",
    "arr = np.array([0, 1, 2, 3, 4, 5, 6, 7, 8, 9])\n",
    "print(\"Input\")\n",
    "arr\n",
    "\n",
    "# Desired Output\n",
    "# > array([1, 3, 5, 7, 9])\n",
    "```"
   ]
  },
  {
   "cell_type": "code",
   "execution_count": 15,
   "metadata": {},
   "outputs": [
    {
     "name": "stdout",
     "output_type": "stream",
     "text": [
      "[1 3 5 7 9]\n"
     ]
    }
   ],
   "source": [
    "arr = np.array([0, 1, 2, 3, 4, 5, 6, 7, 8, 9])\n",
    "\n",
    "odd_elem = arr[arr % 2 != 0]\n",
    "\n",
    "print(odd_elem)"
   ]
  },
  {
   "cell_type": "markdown",
   "metadata": {
    "id": "LFUETNZ2sbxZ"
   },
   "source": [
    "#### Задание 5.\n",
    "```python\n",
    "# Q. Replace all odd numbers in arr with -1\n",
    "# Input \n",
    "arr = np.array([0, 1, 2, 3, 4, 5, 6, 7, 8, 9])\n",
    "print(\"Input\")\n",
    "arr\n",
    "\n",
    "# Desired Output\n",
    "# >  array([ 0, -1,  2, -1,  4, -1,  6, -1,  8, -1])\n",
    "```"
   ]
  },
  {
   "cell_type": "code",
   "execution_count": 17,
   "metadata": {},
   "outputs": [
    {
     "name": "stdout",
     "output_type": "stream",
     "text": [
      "[ 0 -1  2 -1  4 -1  6 -1  8 -1]\n"
     ]
    }
   ],
   "source": [
    "arr[arr % 2 != 0] = -1\n",
    "print(arr)"
   ]
  },
  {
   "cell_type": "markdown",
   "metadata": {
    "id": "SnQ9cjWCsbxZ"
   },
   "source": [
    "#### Задание 6.\n",
    "```python\n",
    "# Q. Replace all odd numbers in arr with -1 without changing arr\n",
    "# Input \n",
    "arr = np.array([0, 1, 2, 3, 4, 5, 6, 7, 8, 9])\n",
    "print(\"Input\")\n",
    "arr\n",
    "\n",
    "# Desired Output\n",
    "# out #>  array([ 0, -1,  2, -1,  4, -1,  6, -1,  8, -1])\n",
    "# arr #>  array([0, 1, 2, 3, 4, 5, 6, 7, 8, 9])\n",
    "```"
   ]
  },
  {
   "cell_type": "code",
   "execution_count": 23,
   "metadata": {},
   "outputs": [
    {
     "name": "stdout",
     "output_type": "stream",
     "text": [
      "[0 1 2 3 4 5 6 7 8 9]\n",
      "[ 0 -1  2 -1  4 -1  6 -1  8 -1]\n"
     ]
    }
   ],
   "source": [
    "arr = np.array([0, 1, 2, 3, 4, 5, 6, 7, 8, 9])\n",
    "copy_arr = np.copy(arr)\n",
    "copy_arr[copy_arr % 2 != 0] = -1\n",
    "\n",
    "print(arr)\n",
    "print(copy_arr)"
   ]
  },
  {
   "cell_type": "markdown",
   "metadata": {
    "id": "rL83-6eUsbxa"
   },
   "source": [
    "#### Задание 7.\n",
    "```python\n",
    "# Q. Convert a 1D array to a 2D array with 2 rows\n",
    "# Input \n",
    "arr = np.arange(10)\n",
    "print(\"Input\")\n",
    "arr\n",
    "\n",
    "# Desired Output\n",
    "# > array([[0, 1, 2, 3, 4],\n",
    "# >        [5, 6, 7, 8, 9]])\n",
    "```"
   ]
  },
  {
   "cell_type": "code",
   "execution_count": 26,
   "metadata": {},
   "outputs": [
    {
     "name": "stdout",
     "output_type": "stream",
     "text": [
      "[[0 1 2 3 4]\n",
      " [5 6 7 8 9]]\n"
     ]
    }
   ],
   "source": [
    "arr = np.arange(10)\n",
    "convert = np.reshape(arr, (2, -1))\n",
    "print(convert)"
   ]
  },
  {
   "cell_type": "markdown",
   "metadata": {
    "id": "D24TiwVEsbxa"
   },
   "source": [
    "#### Задание 8.\n",
    "```python\n",
    "# Q. Stack arrays a and b vertically\n",
    "# Input\n",
    "print(\"Input\")\n",
    "a = np.arange(10).reshape(2,-1)\n",
    "b = np.repeat(1, 10).reshape(2,-1)\n",
    "a\n",
    "b\n",
    "\n",
    "# Desired Output\n",
    "#> array([[0, 1, 2, 3, 4],\n",
    "#>        [5, 6, 7, 8, 9],\n",
    "#>        [1, 1, 1, 1, 1],\n",
    "#>        [1, 1, 1, 1, 1]])\n",
    "```\n",
    "https://habr.com/ru/articles/469355/#p45"
   ]
  },
  {
   "cell_type": "code",
   "execution_count": 34,
   "metadata": {},
   "outputs": [
    {
     "name": "stdout",
     "output_type": "stream",
     "text": [
      "Input\n",
      "[[0 1 2 3 4]\n",
      " [5 6 7 8 9]\n",
      " [1 1 1 1 1]\n",
      " [1 1 1 1 1]]\n"
     ]
    }
   ],
   "source": [
    "print(\"Input\")\n",
    "a = np.arange(10).reshape(2,-1)\n",
    "b = np.repeat(1, 10).reshape(2,-1)\n",
    "\n",
    "vert_concat = np.concatenate((a, b), 0)\n",
    "\n",
    "print(vert_concat)"
   ]
  },
  {
   "cell_type": "markdown",
   "metadata": {
    "id": "Z3BVLI5Xsbxa"
   },
   "source": [
    "#### Задание 9.\n",
    "```python\n",
    "# Q. Stack the arrays a and b horizontally.\n",
    "# Input\n",
    "print(\"Input\")\n",
    "a = np.arange(10).reshape(2,-1)\n",
    "b = np.repeat(1, 10).reshape(2,-1)\n",
    "\n",
    "# Desired Output\n",
    "# > array([[0, 1, 2, 3, 4, 1, 1, 1, 1, 1],\n",
    "# >        [5, 6, 7, 8, 9, 1, 1, 1, 1, 1]])\n",
    "```"
   ]
  },
  {
   "cell_type": "code",
   "execution_count": 35,
   "metadata": {},
   "outputs": [
    {
     "name": "stdout",
     "output_type": "stream",
     "text": [
      "[[0 1 2 3 4 1 1 1 1 1]\n",
      " [5 6 7 8 9 1 1 1 1 1]]\n"
     ]
    }
   ],
   "source": [
    "horizont = np.concatenate((a, b), 1)\n",
    "print(horizont)"
   ]
  },
  {
   "attachments": {},
   "cell_type": "markdown",
   "metadata": {
    "id": "BxlfM9qssbxb"
   },
   "source": [
    "#### Задание 10.\n",
    "```python\n",
    "# Q. Create the following pattern without hardcoding. Use only numpy functions and the below input array a.\n",
    "\n",
    "# Input\n",
    "print(\"Input\")\n",
    "a = np.array([1,2,3])\n",
    "a\n",
    "\n",
    "# Desired Output\n",
    "# > array([1, 1, 1, 2, 2, 2, 3, 3, 3, 1, 2, 3, 1, 2, 3, 1, 2, 3])\n",
    "```\n"
   ]
  },
  {
   "cell_type": "code",
   "execution_count": 48,
   "metadata": {},
   "outputs": [
    {
     "name": "stdout",
     "output_type": "stream",
     "text": [
      "[1 1 1 2 2 2 3 3 3 1 2 3 1 2 3 1 2 3]\n"
     ]
    }
   ],
   "source": [
    "a = np.array([1,2,3])\n",
    "\n",
    "# Repeat each element of a three times\n",
    "part1 = np.repeat(a, 3)\n",
    "\n",
    "\n",
    "part2 = np.tile(a, 3)\n",
    "\n",
    "\n",
    "sum_arr = np.concatenate((part1, part2))\n",
    "\n",
    "print(sum_arr)"
   ]
  },
  {
   "cell_type": "markdown",
   "metadata": {
    "id": "x6zS23dhsbxb"
   },
   "source": [
    "#### Задание 11.\n",
    "```python\n",
    "# Q. Get the common items between a and b\n",
    "\n",
    "# Input\n",
    "print(\"Input\")\n",
    "a = np.array([1,2,3,2,3,4,3,4,5,6])\n",
    "b = np.array([7,2,10,2,7,4,9,4,9,8])\n",
    "a\n",
    "b\n",
    "\n",
    "# Desired Output\n",
    "# array([2, 4])\n",
    "```"
   ]
  },
  {
   "cell_type": "code",
   "execution_count": 51,
   "metadata": {},
   "outputs": [
    {
     "name": "stdout",
     "output_type": "stream",
     "text": [
      "[2 4]\n",
      "[2 2 4 4]\n"
     ]
    }
   ],
   "source": [
    "a = np.array([1,2,3,2,3,4,3,4,5,6])\n",
    "b = np.array([7,2,10,2,7,4,9,4,9,8]) \n",
    "\n",
    "# Находим пересечение\n",
    "common_elements = np.intersect1d(a, b)\n",
    "print(common_elements)\n",
    "\n",
    "# Если нужно сохранить порядок, как в первом списке используем isin\n",
    "\n",
    "com_el = a[np.isin(a, b)]\n",
    "print(com_el)"
   ]
  },
  {
   "cell_type": "markdown",
   "metadata": {
    "id": "WBvkV6ibsbxb"
   },
   "source": [
    "#### Задание 12.\n",
    "```python\n",
    "# Q. From array a remove all items present in array b\n",
    "\n",
    "# Input\n",
    "print(\"Input\")\n",
    "a = np.array([1,2,3,4,5])\n",
    "b = np.array([5,6,7,8,9])\n",
    "a\n",
    "b\n",
    "\n",
    "# Desired Output\n",
    "# array([1,2,3,4])\n",
    "```"
   ]
  },
  {
   "cell_type": "code",
   "execution_count": 55,
   "metadata": {},
   "outputs": [
    {
     "name": "stdout",
     "output_type": "stream",
     "text": [
      "[1 2 3 4]\n"
     ]
    }
   ],
   "source": [
    "a = np.array([1,2,3,4,5])\n",
    "b = np.array([5,6,7,8,9])\n",
    "\n",
    "rm_arr = a[~np.isin(a, b)] # ~ логическое НЕ \n",
    "print(rm_arr)"
   ]
  },
  {
   "cell_type": "markdown",
   "metadata": {
    "id": "uEx6kucUsbxc"
   },
   "source": [
    "#### Задание 13.\n",
    "```python\n",
    "# Q. Get the positions where elements of a and b match\n",
    "\n",
    "# Input\n",
    "print(\"Input\")\n",
    "a = np.array([1,2,3,2,3,4,3,4,5,6])\n",
    "b = np.array([7,2,10,2,7,4,9,4,9,8])\n",
    "a\n",
    "b\n",
    "\n",
    "# Desired Output\n",
    "# > (array([1, 3, 5, 7]),)\n",
    "```"
   ]
  },
  {
   "cell_type": "code",
   "execution_count": 62,
   "metadata": {},
   "outputs": [
    {
     "name": "stdout",
     "output_type": "stream",
     "text": [
      "(array([1, 3, 5, 7]),)\n"
     ]
    }
   ],
   "source": [
    "a = np.array([1,2,3,2,3,4,3,4,5,6])\n",
    "b = np.array([7,2,10,2,7,4,9,4,9,8])\n",
    "\n",
    "matching_positions = np.where((a == b))\n",
    "print(matching_positions)"
   ]
  },
  {
   "cell_type": "markdown",
   "metadata": {
    "id": "j8w1D0lLsbxc"
   },
   "source": [
    "#### Задание 14.\n",
    "```python\n",
    "# Q. Get all items between 5 and 10 from a.\n",
    "\n",
    "# Input\n",
    "print(\"Input\")\n",
    "a = np.array([2, 6, 1, 9, 10, 3, 27])\n",
    "a\n",
    "\n",
    "# Desired Output\n",
    "# (array([6, 9, 10]),)\n",
    "```"
   ]
  },
  {
   "cell_type": "code",
   "execution_count": 63,
   "metadata": {},
   "outputs": [
    {
     "name": "stdout",
     "output_type": "stream",
     "text": [
      "[ 6  9 10]\n"
     ]
    }
   ],
   "source": [
    "a = np.array([2, 6, 1, 9, 10, 3, 27])\n",
    "\n",
    "res = a[(a >= 5) & (a <= 10)]\n",
    "print(res)"
   ]
  },
  {
   "cell_type": "markdown",
   "metadata": {
    "id": "VCzEXBBjsbxc"
   },
   "source": [
    "#### Задание 15.\n",
    "```python\n",
    "# Q. Convert the function maxx that works on two scalars, to work on two arrays.\n",
    "\n",
    "# Input\n",
    "\n",
    "def maxx(x, y):\n",
    "    \"\"\"\n",
    "    Get the maximum of two items\n",
    "    \"\"\"\n",
    "    \n",
    "    if x >= y:\n",
    "        return x\n",
    "    else:\n",
    "        return y\n",
    "print(\"Result of the maxx function\")\n",
    "maxx(1, 5)\n",
    "\n",
    "print(\"Input\")\n",
    "a = np.array([5, 7, 9, 8, 6, 4, 5])\n",
    "b = np.array([6, 3, 4, 8, 9, 7, 1])\n",
    "a\n",
    "b\n",
    "\n",
    "# Desired Output\n",
    "# pair_max(a, b)\n",
    "#> array([ 6.,  7.,  9.,  8.,  9.,  7.,  5.])\n",
    "```"
   ]
  },
  {
   "cell_type": "code",
   "execution_count": 65,
   "metadata": {},
   "outputs": [
    {
     "name": "stdout",
     "output_type": "stream",
     "text": [
      "[6 7 9 8 9 7 5]\n"
     ]
    }
   ],
   "source": [
    "a = np.array([5, 7, 9, 8, 6, 4, 5])\n",
    "b = np.array([6, 3, 4, 8, 9, 7, 1])\n",
    "\n",
    "result = np.maximum(a, b)\n",
    "\n",
    "print(result)"
   ]
  },
  {
   "cell_type": "markdown",
   "metadata": {
    "id": "gMq_g-Etsbxc"
   },
   "source": [
    "#### Задание 16.\n",
    "```python\n",
    "# Q. Swap columns 1 and 2 in the array arr.\n",
    "\n",
    "# Input\n",
    "print(\"Input\")\n",
    "arr = np.arange(9).reshape(3,3)\n",
    "arr\n",
    "```"
   ]
  },
  {
   "cell_type": "code",
   "execution_count": 69,
   "metadata": {},
   "outputs": [
    {
     "name": "stdout",
     "output_type": "stream",
     "text": [
      "[[0 1 2]\n",
      " [3 4 5]\n",
      " [6 7 8]]\n",
      "[[1 0 2]\n",
      " [4 3 5]\n",
      " [7 6 8]]\n"
     ]
    }
   ],
   "source": [
    "arr = np.arange(9).reshape(3,3) \n",
    "print(arr)\n",
    "arr[:, [0,1]] = arr[:, [1, 0]]\n",
    "print(arr)"
   ]
  },
  {
   "cell_type": "markdown",
   "metadata": {
    "id": "Z6yPEalTsbxd"
   },
   "source": [
    "#### Задание 17.\n",
    "```python\n",
    "# Q. Swap rows 1 and 2 in the array arr:\n",
    "\n",
    "# Input\n",
    "print(\"Input\")\n",
    "arr = np.arange(9).reshape(3,3)\n",
    "arr\n",
    "```"
   ]
  },
  {
   "cell_type": "code",
   "execution_count": 73,
   "metadata": {},
   "outputs": [
    {
     "name": "stdout",
     "output_type": "stream",
     "text": [
      "[[0 1 2]\n",
      " [6 7 8]\n",
      " [3 4 5]]\n"
     ]
    }
   ],
   "source": [
    "arr = np.arange(9).reshape(3,3)\n",
    "arr[[1, 2], :] = arr[[2, 1], :]\n",
    "print(arr)"
   ]
  },
  {
   "cell_type": "markdown",
   "metadata": {
    "id": "xlShWYVBsbxd"
   },
   "source": [
    "#### Задание 18.\n",
    "```python\n",
    "# Q. Reverse the rows of a 2D array arr.\n",
    "\n",
    "# Input\n",
    "print(\"Input\")\n",
    "arr = np.arange(9).reshape(3,3)\n",
    "arr\n",
    "```"
   ]
  },
  {
   "cell_type": "code",
   "execution_count": 74,
   "metadata": {},
   "outputs": [
    {
     "name": "stdout",
     "output_type": "stream",
     "text": [
      "[[6 7 8]\n",
      " [3 4 5]\n",
      " [0 1 2]]\n"
     ]
    }
   ],
   "source": [
    "arr = np.arange(9).reshape(3,3)\n",
    "\n",
    "reversed = arr[::-1]\n",
    "print(reversed)"
   ]
  },
  {
   "cell_type": "markdown",
   "metadata": {
    "id": "_Opyl7JXsbxd"
   },
   "source": [
    "#### Задание 19.\n",
    "```python\n",
    "# Q. Reverse the columns of a 2D array arr.\n",
    "\n",
    "# Input\n",
    "print(\"Input\")\n",
    "arr = np.arange(9).reshape(3,3)\n",
    "arr\n",
    "```"
   ]
  },
  {
   "cell_type": "code",
   "execution_count": 78,
   "metadata": {},
   "outputs": [
    {
     "name": "stdout",
     "output_type": "stream",
     "text": [
      "[[0 1 2]\n",
      " [3 4 5]\n",
      " [6 7 8]]\n",
      "[[2 1 0]\n",
      " [5 4 3]\n",
      " [8 7 6]]\n"
     ]
    }
   ],
   "source": [
    "arr = np.arange(9).reshape(3,3)\n",
    "print(arr)\n",
    "reversed = arr[:, ::-1]\n",
    "print(reversed)\n",
    "\n",
    "b = np.array([10, 20, 30, 40, 50])\n",
    "every_second = b[::2]  # Извлекает каждый второй элемент\n"
   ]
  },
  {
   "cell_type": "markdown",
   "metadata": {
    "id": "vwuTaK0qsbxd"
   },
   "source": [
    "#### Задание 20.\n",
    "```python\n",
    "# Q. Create a 2D array of shape 5x3 to contain random decimal numbers between 5 and 10.\n",
    "```"
   ]
  },
  {
   "cell_type": "code",
   "execution_count": 81,
   "metadata": {},
   "outputs": [
    {
     "name": "stdout",
     "output_type": "stream",
     "text": [
      "[[9.0910329  6.73469733 7.52490652]\n",
      " [7.41968657 9.7990687  6.10334208]\n",
      " [5.27282785 5.56680574 9.35349497]\n",
      " [6.63096016 6.6361194  9.4769313 ]\n",
      " [9.3348272  9.56165579 5.16308176]]\n"
     ]
    }
   ],
   "source": [
    "# устанавливаем диапазон значений \n",
    "low = 5\n",
    "high = 10\n",
    "\n",
    "random_arr = np.random.uniform(low, high, size = (5, 3))\n",
    "\n",
    "print(random_arr)"
   ]
  },
  {
   "cell_type": "code",
   "execution_count": null,
   "metadata": {},
   "outputs": [],
   "source": []
  }
 ],
 "metadata": {
  "colab": {
   "collapsed_sections": [],
   "name": "Seminar-05.ipynb",
   "provenance": []
  },
  "kernelspec": {
   "display_name": "Python 3 (ipykernel)",
   "language": "python",
   "name": "python3"
  },
  "language_info": {
   "codemirror_mode": {
    "name": "ipython",
    "version": 3
   },
   "file_extension": ".py",
   "mimetype": "text/x-python",
   "name": "python",
   "nbconvert_exporter": "python",
   "pygments_lexer": "ipython3",
   "version": "3.12.4"
  }
 },
 "nbformat": 4,
 "nbformat_minor": 4
}
